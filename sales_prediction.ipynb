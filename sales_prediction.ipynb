{
  "cells": [
    {
      "cell_type": "markdown",
      "metadata": {
        "id": "uyamV8CHU9Ae"
      },
      "source": [
        "# libraries and initializing spark session"
      ]
    },
    {
      "cell_type": "code",
      "execution_count": 1,
      "metadata": {
        "colab": {
          "base_uri": "https://localhost:8080/"
        },
        "id": "Qh1HNHyzU_iC",
        "outputId": "1994eb51-ecdf-4638-d07e-3b43ba232dc3"
      },
      "outputs": [
        {
          "output_type": "stream",
          "name": "stdout",
          "text": [
            "Drive already mounted at /content/drive; to attempt to forcibly remount, call drive.mount(\"/content/drive\", force_remount=True).\n"
          ]
        }
      ],
      "source": [
        "#loading the libraries\n",
        "import pandas as pd\n",
        "import numpy as np\n",
        "import matplotlib.pyplot as plt\n",
        "import dask.dataframe as dd\n",
        "\n",
        "import seaborn as sns\n",
        "\n",
        "#from google.colab import files\n",
        "#uploaded = files.upload()\n",
        "from google.colab import drive\n",
        "drive.mount('/content/drive')\n"
      ]
    },
    {
      "cell_type": "code",
      "execution_count": 2,
      "metadata": {
        "colab": {
          "base_uri": "https://localhost:8080/"
        },
        "id": "K6vvywBJu7Vo",
        "outputId": "46500312-05dd-47da-c3c7-51453cfe425b"
      },
      "outputs": [
        {
          "output_type": "stream",
          "name": "stdout",
          "text": [
            "Requirement already satisfied: pyspark in /usr/local/lib/python3.10/dist-packages (3.5.1)\n",
            "Requirement already satisfied: py4j==0.10.9.7 in /usr/local/lib/python3.10/dist-packages (from pyspark) (0.10.9.7)\n"
          ]
        }
      ],
      "source": [
        "# import findspark\n",
        "# findspark.init()\n",
        "# import pyspark\n",
        "# from pyspark.sql import SparkSession\n",
        "# spark = SparkSession.builder.appName('sertis')\\\n",
        "# .config('spark-master', 'local')\\\n",
        "# .getOrCreate()\n",
        "# from pyspark.sql.functions import col, lit\n",
        "\n",
        "\n",
        "# Install Java\n",
        "!apt-get install openjdk-8-jdk-headless -qq > /dev/null\n",
        "\n",
        "# Install PySpark\n",
        "!pip install pyspark\n",
        "\n",
        "# Initialize Spark Session\n",
        "from pyspark.sql import SparkSession\n",
        "\n",
        "spark = SparkSession.builder \\\n",
        "    .appName(\"sertis\") \\\n",
        "    .getOrCreate()"
      ]
    },
    {
      "cell_type": "code",
      "execution_count": 20,
      "metadata": {
        "id": "WHY6PLlSwHUs"
      },
      "outputs": [],
      "source": [
        "from pyspark.sql.functions import col, lit\n",
        "from pyspark import SparkContext, SparkConf\n",
        "from pyspark.ml import Pipeline\n",
        "from pyspark.ml.linalg import DenseMatrix, Vectors\n",
        "from pyspark.ml.stat import Correlation\n",
        "from pyspark.mllib.stat import Statistics\n",
        "from typing import List, Tuple, Dict\n",
        "from pyspark.sql import Row, DataFrame\n",
        "from pyspark.ml.classification import LogisticRegression, RandomForestClassifier, DecisionTreeClassifier\n",
        "from pyspark.ml.feature import VectorAssembler, StringIndexer, StandardScaler\n",
        "from pyspark.ml.evaluation import BinaryClassificationEvaluator, RegressionEvaluator, MulticlassClassificationEvaluator\n",
        "from pyspark.ml.tuning import ParamGridBuilder, CrossValidator\n",
        "from pyspark.ml.regression import RandomForestRegressor\n",
        "from sklearn.metrics import confusion_matrix\n",
        "from pyspark.sql.functions import when, col\n",
        "from pyspark.sql.functions import mean\n",
        "from pyspark.sql.functions import col, round\n",
        "from pyspark.sql import SparkSession\n",
        "from pyspark.ml.feature import VectorAssembler\n",
        "from pyspark.ml.regression import RandomForestRegressor\n",
        "from pyspark.ml.evaluation import RegressionEvaluator\n",
        "from pyspark.ml.regression import DecisionTreeRegressor"
      ]
    },
    {
      "cell_type": "markdown",
      "metadata": {
        "id": "4hnXJzYeYXu-"
      },
      "source": [
        "# preprocessing"
      ]
    },
    {
      "cell_type": "code",
      "execution_count": 4,
      "metadata": {
        "colab": {
          "base_uri": "https://localhost:8080/"
        },
        "id": "u2tJ4J3QT2SZ",
        "outputId": "bc170fc1-4294-474e-b9d3-93397695b894"
      },
      "outputs": [
        {
          "output_type": "stream",
          "name": "stdout",
          "text": [
            "root\n",
            " |-- id: integer (nullable = true)\n",
            " |-- date: date (nullable = true)\n",
            " |-- store_nbr: integer (nullable = true)\n",
            " |-- item_nbr: integer (nullable = true)\n",
            " |-- unit_sales: double (nullable = true)\n",
            " |-- onpromotion: boolean (nullable = true)\n",
            "\n",
            "+---+----------+---------+--------+----------+-----------+\n",
            "| id|      date|store_nbr|item_nbr|unit_sales|onpromotion|\n",
            "+---+----------+---------+--------+----------+-----------+\n",
            "|  0|2013-01-01|       25|  103665|       7.0|       NULL|\n",
            "|  1|2013-01-01|       25|  105574|       1.0|       NULL|\n",
            "|  2|2013-01-01|       25|  105575|       2.0|       NULL|\n",
            "|  3|2013-01-01|       25|  108079|       1.0|       NULL|\n",
            "|  4|2013-01-01|       25|  108701|       1.0|       NULL|\n",
            "+---+----------+---------+--------+----------+-----------+\n",
            "only showing top 5 rows\n",
            "\n"
          ]
        }
      ],
      "source": [
        "#loading the training dataset\n",
        "\n",
        "file_path = '/content/drive/My Drive/train.csv'\n",
        "df = spark.read.csv(file_path, header=True, inferSchema=True)\n",
        "df.printSchema()\n",
        "df.show(5)\n",
        "\n",
        "\n",
        "#unused codes:\n",
        "# df = dd.read_csv(file_path)\n",
        "#df = ddf.compute()\n",
        "# print(df.head())\n",
        "# row_count = len(df)\n",
        "# print(\"Total rows:\", row_count)"
      ]
    },
    {
      "cell_type": "code",
      "execution_count": 5,
      "metadata": {
        "colab": {
          "base_uri": "https://localhost:8080/"
        },
        "id": "_pmNvTQP36mx",
        "outputId": "ee394c45-c021-4fab-9e73-a21e83d03195"
      },
      "outputs": [
        {
          "output_type": "stream",
          "name": "stdout",
          "text": [
            "+----------+---------+--------+----------+-----------+\n",
            "|      date|store_nbr|item_nbr|unit_sales|onpromotion|\n",
            "+----------+---------+--------+----------+-----------+\n",
            "|2013-01-01|       25|  103665|       7.0|       NULL|\n",
            "|2013-01-01|       25|  105574|       1.0|       NULL|\n",
            "|2013-01-01|       25|  105575|       2.0|       NULL|\n",
            "|2013-01-01|       25|  108079|       1.0|       NULL|\n",
            "|2013-01-01|       25|  108701|       1.0|       NULL|\n",
            "+----------+---------+--------+----------+-----------+\n",
            "only showing top 5 rows\n",
            "\n"
          ]
        }
      ],
      "source": [
        "#for first round of data cleaning, i will remove the id column as it does not affectr the target variable at all and is simply an identifier\n",
        "#i will be removing all rows with negative values in unit_sales due to returning of products\n",
        "#i will all fill the empty cells in the onpromotion tab\n",
        "df1 = df.drop('id')\n",
        "df1 = df1.filter(df['unit_sales'] >= 0)\n",
        "df1.show(5)\n",
        "\n",
        "\n",
        "#unused codes:\n",
        "# df = pd.read_csv(file_path)\n",
        "# df.drop(columns=['id'], inplace=True)\n",
        "# df.drop(df.loc[df['unit_sales'] < 0].index, inplace=True)\n",
        "# df['onpromotion'].fillna('no', inplace=True)"
      ]
    },
    {
      "cell_type": "markdown",
      "metadata": {
        "id": "jlcOgCcczGhW"
      },
      "source": [
        "from the start, i have been using pandas and kept expereincing lack of ram.\n",
        "after digging around, i finally realised that this problem requires parallel computing and hence requires me to use libraires like dask or spark. i will be using spark to tackle this problem due to it being more familiar to me."
      ]
    },
    {
      "cell_type": "code",
      "execution_count": 27,
      "metadata": {
        "colab": {
          "base_uri": "https://localhost:8080/"
        },
        "id": "Fg8kPlvylRdQ",
        "outputId": "4666aea0-95e5-497f-f086-77b9e9ea26e6"
      },
      "outputs": [
        {
          "output_type": "stream",
          "name": "stdout",
          "text": [
            "root\n",
            " |-- date: date (nullable = true)\n",
            " |-- type: string (nullable = true)\n",
            " |-- locale: string (nullable = true)\n",
            " |-- locale_name: string (nullable = true)\n",
            " |-- description: string (nullable = true)\n",
            " |-- transferred: boolean (nullable = true)\n",
            "\n",
            "+----------+-------+--------+-----------+--------------------+-----------+\n",
            "|      date|   type|  locale|locale_name|         description|transferred|\n",
            "+----------+-------+--------+-----------+--------------------+-----------+\n",
            "|2012-03-02|Holiday|   Local|      Manta|  Fundacion de Manta|      false|\n",
            "|2012-04-01|Holiday|Regional|   Cotopaxi|Provincializacion...|      false|\n",
            "|2012-04-12|Holiday|   Local|     Cuenca| Fundacion de Cuenca|      false|\n",
            "|2012-04-14|Holiday|   Local|   Libertad|Cantonizacion de ...|      false|\n",
            "|2012-04-21|Holiday|   Local|   Riobamba|Cantonizacion de ...|      false|\n",
            "+----------+-------+--------+-----------+--------------------+-----------+\n",
            "only showing top 5 rows\n",
            "\n",
            "root\n",
            " |-- date: date (nullable = true)\n",
            " |-- dcoilwtico: double (nullable = true)\n",
            "\n",
            "+----------+----------+\n",
            "|      date|dcoilwtico|\n",
            "+----------+----------+\n",
            "|2013-01-01|      NULL|\n",
            "|2013-01-02|     93.14|\n",
            "|2013-01-03|     92.97|\n",
            "|2013-01-04|     93.12|\n",
            "|2013-01-07|      93.2|\n",
            "+----------+----------+\n",
            "only showing top 5 rows\n",
            "\n",
            "root\n",
            " |-- item_nbr: integer (nullable = true)\n",
            " |-- family: string (nullable = true)\n",
            " |-- class: integer (nullable = true)\n",
            " |-- perishable: integer (nullable = true)\n",
            "\n",
            "+--------+------------+-----+----------+\n",
            "|item_nbr|      family|class|perishable|\n",
            "+--------+------------+-----+----------+\n",
            "|   96995|   GROCERY I| 1093|         0|\n",
            "|   99197|   GROCERY I| 1067|         0|\n",
            "|  103501|    CLEANING| 3008|         0|\n",
            "|  103520|   GROCERY I| 1028|         0|\n",
            "|  103665|BREAD/BAKERY| 2712|         1|\n",
            "+--------+------------+-----+----------+\n",
            "only showing top 5 rows\n",
            "\n",
            "root\n",
            " |-- store_nbr: integer (nullable = true)\n",
            " |-- city: string (nullable = true)\n",
            " |-- state: string (nullable = true)\n",
            " |-- type: string (nullable = true)\n",
            " |-- cluster: integer (nullable = true)\n",
            "\n",
            "+---------+-------------+--------------------+----+-------+\n",
            "|store_nbr|         city|               state|type|cluster|\n",
            "+---------+-------------+--------------------+----+-------+\n",
            "|        1|        Quito|           Pichincha|   D|     13|\n",
            "|        2|        Quito|           Pichincha|   D|     13|\n",
            "|        3|        Quito|           Pichincha|   D|      8|\n",
            "|        4|        Quito|           Pichincha|   D|      9|\n",
            "|        5|Santo Domingo|Santo Domingo de ...|   D|      4|\n",
            "+---------+-------------+--------------------+----+-------+\n",
            "only showing top 5 rows\n",
            "\n",
            "root\n",
            " |-- date: date (nullable = true)\n",
            " |-- store_nbr: integer (nullable = true)\n",
            " |-- transactions: integer (nullable = true)\n",
            "\n",
            "+----------+---------+------------+\n",
            "|      date|store_nbr|transactions|\n",
            "+----------+---------+------------+\n",
            "|2013-01-01|       25|         770|\n",
            "|2013-01-02|        1|        2111|\n",
            "|2013-01-02|        2|        2358|\n",
            "|2013-01-02|        3|        3487|\n",
            "|2013-01-02|        4|        1922|\n",
            "+----------+---------+------------+\n",
            "only showing top 5 rows\n",
            "\n"
          ]
        }
      ],
      "source": [
        "#loading the other datasets\n",
        "file_path_2 = '/content/drive/My Drive/holidays_events.csv'\n",
        "df_he = spark.read.csv(file_path_2, header=True, inferSchema=True)\n",
        "df_he.printSchema()\n",
        "df_he.show(5)\n",
        "\n",
        "file_path_3 = '/content/drive/My Drive/oil.csv'\n",
        "df_o = spark.read.csv(file_path_3, header=True, inferSchema=True)\n",
        "df_o.printSchema()\n",
        "df_o.show(5)\n",
        "\n",
        "file_path_4 = '/content/drive/My Drive/items.csv'\n",
        "df_i = spark.read.csv(file_path_4, header=True, inferSchema=True)\n",
        "df_i.printSchema()\n",
        "df_i.show(5)\n",
        "\n",
        "file_path_5 = '/content/drive/My Drive/stores.csv'\n",
        "df_s = spark.read.csv(file_path_5, header=True, inferSchema=True)\n",
        "df_s.printSchema()\n",
        "df_s.show(5)\n",
        "\n",
        "file_path_6 = '/content/drive/My Drive/transactions.csv'\n",
        "df_t = spark.read.csv(file_path_6, header=True, inferSchema=True)\n",
        "df_t.printSchema()\n",
        "df_t.show(5)\n",
        "\n",
        "\n",
        "# # unused code:\n",
        "# file_path_2 = '/content/drive/My Drive/holidays_events.csv'\n",
        "# df_he = pd.read_csv(file_path_2)\n",
        "# print(df_he.head())\n",
        "# #row_count = len(df_he)\n",
        "# #print(\"Total rows:\", row_count)\n",
        "\n",
        "# file_path_3 = '/content/drive/My Drive/oil.csv'\n",
        "# df_o = pd.read_csv(file_path_3)\n",
        "# print(df_o.head())\n",
        "# #row_count = len(df_o)\n",
        "# #print(\"Total rows:\", row_count)\n",
        "\n",
        "# file_path_4 = '/content/drive/My Drive/items.csv'\n",
        "# df_i = pd.read_csv(file_path_4)\n",
        "# print(df_i.head())\n",
        "# #row_count = len(df_i)\n",
        "# #print(\"Total rows:\", row_count)\n",
        "\n",
        "# file_path_5 = '/content/drive/My Drive/stores.csv'\n",
        "# df_s = pd.read_csv(file_path_5)\n",
        "# print(df_s.head())\n",
        "# #row_count = len(df_s)\n",
        "# #print(\"Total rows:\", row_count)\n",
        "\n",
        "# file_path_6 = '/content/drive/My Drive/transactions.csv'\n",
        "# df_t = pd.read_csv(file_path_6)\n",
        "# print(df_t.head())\n",
        "# #row_count = len(df_t)\n",
        "# #print(\"Total rows:\", row_count)"
      ]
    },
    {
      "cell_type": "markdown",
      "source": [
        "Exploring the datasets"
      ],
      "metadata": {
        "id": "dlYPYwiANQpf"
      }
    },
    {
      "cell_type": "code",
      "source": [
        "#converting to pandas dataset\n",
        "pd_he = df_he.toPandas()\n",
        "#visualising the data\n",
        "sns.pairplot(pd_he)\n",
        "plt.suptitle('days transfered', y=1.02)\n",
        "plt.show()"
      ],
      "metadata": {
        "colab": {
          "base_uri": "https://localhost:8080/",
          "height": 282
        },
        "id": "27SpvwDXNWOH",
        "outputId": "191f8d21-3499-486f-a5b0-0ecd610d366f"
      },
      "execution_count": 29,
      "outputs": [
        {
          "output_type": "display_data",
          "data": {
            "text/plain": [
              "<Figure size 250x250 with 2 Axes>"
            ],
            "image/png": "[encoded data removed]"
          },
          "metadata": {}
        }
      ]
    },
    {
      "cell_type": "code",
      "source": [
        "#converting to pandas dataset\n",
        "pd_o = df_o.toPandas()\n",
        "#visualising the data\n",
        "sns.pairplot(pd_o)\n",
        "plt.suptitle('daily oil prices', y=1.02)\n",
        "plt.show()"
      ],
      "metadata": {
        "colab": {
          "base_uri": "https://localhost:8080/",
          "height": 282
        },
        "id": "e8auZSZdPHl0",
        "outputId": "3671fe29-7d58-475f-d6f3-2aa67fb2a6f1"
      },
      "execution_count": 30,
      "outputs": [
        {
          "output_type": "display_data",
          "data": {
            "text/plain": [
              "<Figure size 250x250 with 2 Axes>"
            ],
            "image/png": "[encoded data removed]"
          },
          "metadata": {}
        }
      ]
    },
    {
      "cell_type": "code",
      "source": [
        "#converting to pandas dataset\n",
        "pd_i = df_i.toPandas()\n",
        "#visualising the data\n",
        "sns.pairplot(pd_i)\n",
        "plt.suptitle('Scatter Matrix', y=1.02)\n",
        "plt.show()"
      ],
      "metadata": {
        "colab": {
          "base_uri": "https://localhost:8080/",
          "height": 787
        },
        "id": "zgZ3eCmvPaee",
        "outputId": "78938dd9-73ed-43c9-cd54-e2f71f4aae56"
      },
      "execution_count": 31,
      "outputs": [
        {
          "output_type": "display_data",
          "data": {
            "text/plain": [
              "<Figure size 750x750 with 12 Axes>"
            ],
            "image/png": "[encoded data removed]"
          },
          "metadata": {}
        }
      ]
    },
    {
      "cell_type": "code",
      "source": [
        "#converting to pandas dataset\n",
        "pd_s = df_s.toPandas()\n",
        "#visualising the data\n",
        "sns.pairplot(pd_s)\n",
        "plt.suptitle('Scatter Matrix', y=1.02)\n",
        "plt.show()"
      ],
      "metadata": {
        "colab": {
          "base_uri": "https://localhost:8080/",
          "height": 535
        },
        "id": "_CrSDlNhPw6u",
        "outputId": "1ae5d0c1-0813-4297-ecab-94e13e9559f3"
      },
      "execution_count": 32,
      "outputs": [
        {
          "output_type": "display_data",
          "data": {
            "text/plain": [
              "<Figure size 500x500 with 6 Axes>"
            ],
            "image/png": "[encoded data removed]"
          },
          "metadata": {}
        }
      ]
    },
    {
      "cell_type": "code",
      "source": [
        "#converting to pandas dataset\n",
        "pd_t = df_t.toPandas()\n",
        "#visualising the data\n",
        "sns.pairplot(pd_t)\n",
        "plt.suptitle('Scatter Matrix', y=1.02)\n",
        "plt.show()"
      ],
      "metadata": {
        "colab": {
          "base_uri": "https://localhost:8080/",
          "height": 535
        },
        "id": "JafBKpG-P5Gb",
        "outputId": "6023641c-2d95-4bf6-a260-7d44f590b99a"
      },
      "execution_count": 33,
      "outputs": [
        {
          "output_type": "display_data",
          "data": {
            "text/plain": [
              "<Figure size 500x500 with 6 Axes>"
            ],
            "image/png": "[encoded data removed]"
          },
          "metadata": {}
        }
      ]
    },
    {
      "cell_type": "code",
      "execution_count": 7,
      "metadata": {
        "colab": {
          "base_uri": "https://localhost:8080/"
        },
        "id": "znOYTnL-68VA",
        "outputId": "ddb11323-3ba6-4675-d61c-efa144cee044"
      },
      "outputs": [
        {
          "output_type": "stream",
          "name": "stdout",
          "text": [
            "+----------+--------+-----------+--------------------+--------+\n",
            "|      date|  locale|locale_name|         description|hol_true|\n",
            "+----------+--------+-----------+--------------------+--------+\n",
            "|2012-03-02|   Local|      Manta|  Fundacion de Manta|       1|\n",
            "|2012-04-01|Regional|   Cotopaxi|Provincializacion...|       1|\n",
            "|2012-04-12|   Local|     Cuenca| Fundacion de Cuenca|       1|\n",
            "|2012-04-14|   Local|   Libertad|Cantonizacion de ...|       1|\n",
            "|2012-04-21|   Local|   Riobamba|Cantonizacion de ...|       1|\n",
            "+----------+--------+-----------+--------------------+--------+\n",
            "only showing top 5 rows\n",
            "\n"
          ]
        }
      ],
      "source": [
        "#adjusting the holiday events df\n",
        "#create a new col called hol_true, by removing the transfered and type columns.\n",
        "#if the transfered value is true, hol_true will return 0\n",
        "#if the type is transfer or additional, hol_true will return 1\n",
        "df_he = df_he.withColumn('hol_true',\n",
        "                        when(df_he['type'] == 'Transfer', 1)\n",
        "                        .when(df_he['transferred'] == 'TRUE', 0)\n",
        "                        .otherwise(1))\n",
        "df_he = df_he.drop('transferred', 'type')\n",
        "df_he.show(5)\n",
        "\n",
        "\n",
        "# unused code\n",
        "# def create_new_column(row):\n",
        "#     if row['type'] == \"Transfer\":\n",
        "#       return 1\n",
        "#     elif row['transferred'] == 'TRUE':\n",
        "#       return 0\n",
        "#     else:\n",
        "#       return 1\n",
        "\n",
        "# df_he['hol_true'] = df_he.apply(create_new_column, axis=1)\n",
        "# df_he.drop(columns=['transferred'], inplace=True)\n",
        "# df_he.drop(columns=['type'], inplace=True)\n",
        "# print(df_he.head())"
      ]
    },
    {
      "cell_type": "code",
      "execution_count": 8,
      "metadata": {
        "colab": {
          "base_uri": "https://localhost:8080/"
        },
        "id": "mLsiMgoiGtu_",
        "outputId": "7e82e45b-1999-4dca-b64d-5c7bc8ee5b2d"
      },
      "outputs": [
        {
          "output_type": "stream",
          "name": "stdout",
          "text": [
            "67.71436595744689\n",
            "+----------+-----------------+\n",
            "|      date|       dcoilwtico|\n",
            "+----------+-----------------+\n",
            "|2013-01-01|67.71436595744689|\n",
            "|2013-01-02|            93.14|\n",
            "|2013-01-03|            92.97|\n",
            "|2013-01-04|            93.12|\n",
            "|2013-01-07|             93.2|\n",
            "+----------+-----------------+\n",
            "only showing top 5 rows\n",
            "\n"
          ]
        }
      ],
      "source": [
        "#cleaning the oil dataframe\n",
        "mean_value = df_o.select(mean('dcoilwtico')).collect()[0][0]\n",
        "print(mean_value)\n",
        "df_o = df_o.na.fill({'dcoilwtico': mean_value})\n",
        "df_o.show(5)\n",
        "\n",
        "\n",
        "#unused code\n",
        "# df_o['dcoilwtico'].fillna(df_o['dcoilwtico'].mean(), inplace=True)\n",
        "# print(df_o.head())"
      ]
    },
    {
      "cell_type": "code",
      "execution_count": 9,
      "metadata": {
        "colab": {
          "base_uri": "https://localhost:8080/"
        },
        "id": "_ae_CBKZKrky",
        "outputId": "a94f3a10-396b-4f5e-dd62-a1d5811a87d4"
      },
      "outputs": [
        {
          "output_type": "stream",
          "name": "stdout",
          "text": [
            "+---------+----------+--------+----------+-----------+-------+-----------+----+-------+\n",
            "|store_nbr|      date|item_nbr|unit_sales|onpromotion|   city|      state|type|cluster|\n",
            "+---------+----------+--------+----------+-----------+-------+-----------+----+-------+\n",
            "|       25|2013-01-01|  103665|       7.0|       NULL|Salinas|Santa Elena|   D|      1|\n",
            "|       25|2013-01-01|  105574|       1.0|       NULL|Salinas|Santa Elena|   D|      1|\n",
            "|       25|2013-01-01|  105575|       2.0|       NULL|Salinas|Santa Elena|   D|      1|\n",
            "|       25|2013-01-01|  108079|       1.0|       NULL|Salinas|Santa Elena|   D|      1|\n",
            "|       25|2013-01-01|  108701|       1.0|       NULL|Salinas|Santa Elena|   D|      1|\n",
            "+---------+----------+--------+----------+-----------+-------+-----------+----+-------+\n",
            "only showing top 5 rows\n",
            "\n"
          ]
        }
      ],
      "source": [
        "#making sure that a specific store is affected by a holiday\n",
        "#national is celebrated by all\n",
        "#region is celebrated by locals in the state\n",
        "#local oonly celebrated within the city\n",
        "# part 1\n",
        "df2 = df1.join(df_s, on='store_nbr', how='inner')\n",
        "df2.show(5)\n",
        "\n",
        "\n",
        "# unused code\n",
        "# mdf_v1 = pd.merge(df, df_s, on='store_nbr', how='inner')\n",
        "# print(mdf_v1.column)"
      ]
    },
    {
      "cell_type": "code",
      "execution_count": 10,
      "metadata": {
        "colab": {
          "base_uri": "https://localhost:8080/"
        },
        "id": "MBehB5m9bCrF",
        "outputId": "5da840e9-206a-4f67-b2d3-7460d3b47a11"
      },
      "outputs": [
        {
          "output_type": "stream",
          "name": "stdout",
          "text": [
            "+----------+---------+--------+----------+-----------+-------+-----------+----+-------+--------+-----------+------------------+--------+\n",
            "|      date|store_nbr|item_nbr|unit_sales|onpromotion|   city|      state|type|cluster|  locale|locale_name|       description|hol_true|\n",
            "+----------+---------+--------+----------+-----------+-------+-----------+----+-------+--------+-----------+------------------+--------+\n",
            "|2013-01-01|       25|  103665|       7.0|       NULL|Salinas|Santa Elena|   D|      1|National|    Ecuador|Primer dia del ano|       1|\n",
            "|2013-01-01|       25|  105574|       1.0|       NULL|Salinas|Santa Elena|   D|      1|National|    Ecuador|Primer dia del ano|       1|\n",
            "|2013-01-01|       25|  105575|       2.0|       NULL|Salinas|Santa Elena|   D|      1|National|    Ecuador|Primer dia del ano|       1|\n",
            "|2013-01-01|       25|  108079|       1.0|       NULL|Salinas|Santa Elena|   D|      1|National|    Ecuador|Primer dia del ano|       1|\n",
            "|2013-01-01|       25|  108701|       1.0|       NULL|Salinas|Santa Elena|   D|      1|National|    Ecuador|Primer dia del ano|       1|\n",
            "+----------+---------+--------+----------+-----------+-------+-----------+----+-------+--------+-----------+------------------+--------+\n",
            "only showing top 5 rows\n",
            "\n"
          ]
        }
      ],
      "source": [
        "# part 2\n",
        "df3 = df2.join(df_he, on='date', how='inner')\n",
        "df3.show(5)"
      ]
    },
    {
      "cell_type": "code",
      "execution_count": 11,
      "metadata": {
        "colab": {
          "base_uri": "https://localhost:8080/"
        },
        "id": "UWg87WEJYWV0",
        "outputId": "a161a4ad-b539-4094-d4ae-bbbbb14c5a8d"
      },
      "outputs": [
        {
          "output_type": "stream",
          "name": "stdout",
          "text": [
            "+----------+---------+--------+----------+-----------+-------+-----------+----+-------+--------+-----------+------------------+-------+\n",
            "|      date|store_nbr|item_nbr|unit_sales|onpromotion|   city|      state|type|cluster|  locale|locale_name|       description|holiday|\n",
            "+----------+---------+--------+----------+-----------+-------+-----------+----+-------+--------+-----------+------------------+-------+\n",
            "|2013-01-01|       25|  103665|       7.0|       NULL|Salinas|Santa Elena|   D|      1|National|    Ecuador|Primer dia del ano|      1|\n",
            "|2013-01-01|       25|  105574|       1.0|       NULL|Salinas|Santa Elena|   D|      1|National|    Ecuador|Primer dia del ano|      1|\n",
            "|2013-01-01|       25|  105575|       2.0|       NULL|Salinas|Santa Elena|   D|      1|National|    Ecuador|Primer dia del ano|      1|\n",
            "|2013-01-01|       25|  108079|       1.0|       NULL|Salinas|Santa Elena|   D|      1|National|    Ecuador|Primer dia del ano|      1|\n",
            "|2013-01-01|       25|  108701|       1.0|       NULL|Salinas|Santa Elena|   D|      1|National|    Ecuador|Primer dia del ano|      1|\n",
            "+----------+---------+--------+----------+-----------+-------+-----------+----+-------+--------+-----------+------------------+-------+\n",
            "only showing top 5 rows\n",
            "\n"
          ]
        }
      ],
      "source": [
        "# part 2\n",
        "df4 = df3.withColumn('holiday',\n",
        "                     when((col('hol_true') == 1) & (col('locale') == 'National'), 1)\n",
        "                     .when((col('hol_true') == 1) & (col('locale') == 'Regional') & (col('locale_name') == col('state')), 1)\n",
        "                     .when((col('hol_true') == 1) & (col('locale') == 'Local') & (col('locale_name') == col('city')), 1)\n",
        "                     .otherwise(0))\n",
        "df4 = df4.drop('hol_true')\n",
        "df4.show(5)\n",
        "\n",
        "\n",
        "# unused code\n",
        "# def create_new_column(row):\n",
        "#     if row['hol_true'] == 1:\n",
        "#       if row['locale'] == 'National':\n",
        "#         return 1\n",
        "#       elif row['locale'] == 'Regional':\n",
        "#         if row['locale_name'] == row['state']:\n",
        "#           return 1\n",
        "#         else:\n",
        "#           return 0\n",
        "#       elif row['locale'] == 'Local':\n",
        "#         if row['locale_name'] == row['city']:\n",
        "#           return 1\n",
        "#         else:\n",
        "#           return 0\n",
        "#       else:\n",
        "#         return 0\n",
        "#     else:\n",
        "#       return 0\n",
        "\n",
        "# mdf_v1['holiday'] = mdf_v1.apply(create_new_column, axis=1)"
      ]
    },
    {
      "cell_type": "code",
      "execution_count": null,
      "metadata": {
        "id": "fEsjQFNPPHfY"
      },
      "outputs": [],
      "source": [
        "# #including special events like wage day and earthquake for a few weeks(6 weeks sound like a reasonable value)\n",
        "# def create_new_column(row):\n",
        "#   if row['date'] < pd.Timestamp(''):\n",
        "#     return 1\n",
        "#   elif row['date'] >= pd.Timestamp(''):\n",
        "#     return 1\n",
        "#   else:\n",
        "#     return 0"
      ]
    },
    {
      "cell_type": "code",
      "execution_count": 12,
      "metadata": {
        "colab": {
          "base_uri": "https://localhost:8080/"
        },
        "id": "ZVkJY-yApq5_",
        "outputId": "b77bf9e9-847d-4c64-93be-a459f483bb9e"
      },
      "outputs": [
        {
          "output_type": "stream",
          "name": "stdout",
          "text": [
            "+----------+---------+--------+----------+-----------+-------+-----------+----+-------+--------+-----------+------------------+-------+-----------------+\n",
            "|      date|store_nbr|item_nbr|unit_sales|onpromotion|   city|      state|type|cluster|  locale|locale_name|       description|holiday|       dcoilwtico|\n",
            "+----------+---------+--------+----------+-----------+-------+-----------+----+-------+--------+-----------+------------------+-------+-----------------+\n",
            "|2013-01-01|       25|  103665|       7.0|       NULL|Salinas|Santa Elena|   D|      1|National|    Ecuador|Primer dia del ano|      1|67.71436595744689|\n",
            "|2013-01-01|       25|  105574|       1.0|       NULL|Salinas|Santa Elena|   D|      1|National|    Ecuador|Primer dia del ano|      1|67.71436595744689|\n",
            "|2013-01-01|       25|  105575|       2.0|       NULL|Salinas|Santa Elena|   D|      1|National|    Ecuador|Primer dia del ano|      1|67.71436595744689|\n",
            "|2013-01-01|       25|  108079|       1.0|       NULL|Salinas|Santa Elena|   D|      1|National|    Ecuador|Primer dia del ano|      1|67.71436595744689|\n",
            "|2013-01-01|       25|  108701|       1.0|       NULL|Salinas|Santa Elena|   D|      1|National|    Ecuador|Primer dia del ano|      1|67.71436595744689|\n",
            "+----------+---------+--------+----------+-----------+-------+-----------+----+-------+--------+-----------+------------------+-------+-----------------+\n",
            "only showing top 5 rows\n",
            "\n",
            "+--------+----------+---------+----------+-----------+-------+-----------+----+-------+--------+-----------+------------------+-------+-----------------+------------+-----+----------+\n",
            "|item_nbr|      date|store_nbr|unit_sales|onpromotion|   city|      state|type|cluster|  locale|locale_name|       description|holiday|       dcoilwtico|      family|class|perishable|\n",
            "+--------+----------+---------+----------+-----------+-------+-----------+----+-------+--------+-----------+------------------+-------+-----------------+------------+-----+----------+\n",
            "|  103665|2013-01-01|       25|       7.0|       NULL|Salinas|Santa Elena|   D|      1|National|    Ecuador|Primer dia del ano|      1|67.71436595744689|BREAD/BAKERY| 2712|         1|\n",
            "|  105574|2013-01-01|       25|       1.0|       NULL|Salinas|Santa Elena|   D|      1|National|    Ecuador|Primer dia del ano|      1|67.71436595744689|   GROCERY I| 1045|         0|\n",
            "|  105575|2013-01-01|       25|       2.0|       NULL|Salinas|Santa Elena|   D|      1|National|    Ecuador|Primer dia del ano|      1|67.71436595744689|   GROCERY I| 1045|         0|\n",
            "|  108079|2013-01-01|       25|       1.0|       NULL|Salinas|Santa Elena|   D|      1|National|    Ecuador|Primer dia del ano|      1|67.71436595744689|   GROCERY I| 1030|         0|\n",
            "|  108701|2013-01-01|       25|       1.0|       NULL|Salinas|Santa Elena|   D|      1|National|    Ecuador|Primer dia del ano|      1|67.71436595744689|        DELI| 2644|         1|\n",
            "+--------+----------+---------+----------+-----------+-------+-----------+----+-------+--------+-----------+------------------+-------+-----------------+------------+-----+----------+\n",
            "only showing top 5 rows\n",
            "\n",
            "+----------+---------+--------+----------+-----------+-------+-----------+----+-------+--------+-----------+------------------+-------+-----------------+------------+-----+----------+------------+\n",
            "|      date|store_nbr|item_nbr|unit_sales|onpromotion|   city|      state|type|cluster|  locale|locale_name|       description|holiday|       dcoilwtico|      family|class|perishable|transactions|\n",
            "+----------+---------+--------+----------+-----------+-------+-----------+----+-------+--------+-----------+------------------+-------+-----------------+------------+-----+----------+------------+\n",
            "|2013-01-01|       25|  103665|       7.0|       NULL|Salinas|Santa Elena|   D|      1|National|    Ecuador|Primer dia del ano|      1|67.71436595744689|BREAD/BAKERY| 2712|         1|         770|\n",
            "|2013-01-01|       25|  105574|       1.0|       NULL|Salinas|Santa Elena|   D|      1|National|    Ecuador|Primer dia del ano|      1|67.71436595744689|   GROCERY I| 1045|         0|         770|\n",
            "|2013-01-01|       25|  105575|       2.0|       NULL|Salinas|Santa Elena|   D|      1|National|    Ecuador|Primer dia del ano|      1|67.71436595744689|   GROCERY I| 1045|         0|         770|\n",
            "|2013-01-01|       25|  108079|       1.0|       NULL|Salinas|Santa Elena|   D|      1|National|    Ecuador|Primer dia del ano|      1|67.71436595744689|   GROCERY I| 1030|         0|         770|\n",
            "|2013-01-01|       25|  108701|       1.0|       NULL|Salinas|Santa Elena|   D|      1|National|    Ecuador|Primer dia del ano|      1|67.71436595744689|        DELI| 2644|         1|         770|\n",
            "+----------+---------+--------+----------+-----------+-------+-----------+----+-------+--------+-----------+------------------+-------+-----------------+------------+-----+----------+------------+\n",
            "only showing top 5 rows\n",
            "\n"
          ]
        }
      ],
      "source": [
        "#aggregating the dataframes\n",
        "df5 = df4.join(df_o, on='date', how='inner')\n",
        "df5.show(5)\n",
        "\n",
        "df6 = df5.join(df_i, on='item_nbr', how='inner')\n",
        "df6.show(5)\n",
        "\n",
        "df7 = df6.join(df_t, on=['date', 'store_nbr'], how='inner')\n",
        "df7.show(5)\n",
        "\n",
        "\n",
        "# unused code\n",
        "# mdf_v2 = pd.merge(mdf_v1, df_o, on='date', how='inner')\n",
        "# print(mdf_v2.columns)\n",
        "\n",
        "# mdf_v3 = pd.merge(mdf_v2, df_he, on='date', how='inner')\n",
        "# print(mdf_v3.columns)\n",
        "\n",
        "# mdf_v4 = pd.merge(mdf_v3, df_i, on='item_nbr', how='inner')\n",
        "# print(mdf_v4.columns)\n",
        "\n",
        "# mdf_v5 = pd.merge(mdf_v4, df_t, on=['date', 'store_nbr'], how='inner')\n",
        "# print(mdf_v5.column)\n",
        "\n",
        "# merged_df_v1 = dd.merge(df, ddf_he, on='date', how='inner')\n",
        "# print(merged_df_v1.columns)\n",
        "# merged_df_v2 = dd.merge(merged_df_v1, ddf_o, on='date', how='inner')\n",
        "# print(merged_df_v2.columns)\n",
        "# merged_df_v3 = dd.merge(merged_df_v2, ddf_i, on='item_nbr', how='inner')\n",
        "# print(merged_df_v3.columns)\n",
        "# merged_df_v4 = dd.merge(merged_df_v3, ddf_s, on='store_nbr', how='inner')\n",
        "# print(merged_df_v4.columns)\n",
        "# mdf = dd.merge(merged_df_v4, ddf_t, on=['date', 'store_nbr'], how='inner')"
      ]
    },
    {
      "cell_type": "code",
      "execution_count": 13,
      "metadata": {
        "colab": {
          "base_uri": "https://localhost:8080/"
        },
        "id": "u6rXBLxr1o7B",
        "outputId": "e3b34614-c2a0-413c-e728-4ad43d3265c2"
      },
      "outputs": [
        {
          "output_type": "stream",
          "name": "stdout",
          "text": [
            "root\n",
            " |-- unit_sales: double (nullable = true)\n",
            " |-- onpromotion: boolean (nullable = true)\n",
            " |-- city: string (nullable = true)\n",
            " |-- state: string (nullable = true)\n",
            " |-- type: string (nullable = true)\n",
            " |-- cluster: integer (nullable = true)\n",
            " |-- description: string (nullable = true)\n",
            " |-- holiday: integer (nullable = false)\n",
            " |-- dcoilwtico: double (nullable = false)\n",
            " |-- family: string (nullable = true)\n",
            " |-- class: integer (nullable = true)\n",
            " |-- perishable: integer (nullable = true)\n",
            " |-- transactions: integer (nullable = true)\n",
            "\n",
            "+----------+-----------+-------+-----------+----+-------+------------------+-------+-----------------+------------+-----+----------+------------+\n",
            "|unit_sales|onpromotion|   city|      state|type|cluster|       description|holiday|       dcoilwtico|      family|class|perishable|transactions|\n",
            "+----------+-----------+-------+-----------+----+-------+------------------+-------+-----------------+------------+-----+----------+------------+\n",
            "|       7.0|       NULL|Salinas|Santa Elena|   D|      1|Primer dia del ano|      1|67.71436595744689|BREAD/BAKERY| 2712|         1|         770|\n",
            "|       1.0|       NULL|Salinas|Santa Elena|   D|      1|Primer dia del ano|      1|67.71436595744689|   GROCERY I| 1045|         0|         770|\n",
            "|       2.0|       NULL|Salinas|Santa Elena|   D|      1|Primer dia del ano|      1|67.71436595744689|   GROCERY I| 1045|         0|         770|\n",
            "|       1.0|       NULL|Salinas|Santa Elena|   D|      1|Primer dia del ano|      1|67.71436595744689|   GROCERY I| 1030|         0|         770|\n",
            "|       1.0|       NULL|Salinas|Santa Elena|   D|      1|Primer dia del ano|      1|67.71436595744689|        DELI| 2644|         1|         770|\n",
            "+----------+-----------+-------+-----------+----+-------+------------------+-------+-----------------+------------+-----+----------+------------+\n",
            "only showing top 5 rows\n",
            "\n"
          ]
        }
      ],
      "source": [
        "#pruning of unrequired columns\n",
        "#based on personal judgement, i have decided to remove the following columns:\n",
        "#date, store_nbr, item_nbr as they serve no purpose except as identifiers, and have no toher use sincei am done with aggregation\n",
        "# i also dropped locale name and locale as it is an identifier to show which country/state celebrates the holday\n",
        "\n",
        "df_train = df7.drop('date', 'store_nbr','item_nbr','locale_name','locale')\n",
        "df_train.printSchema()\n",
        "df_train.show(5)"
      ]
    },
    {
      "cell_type": "code",
      "execution_count": 14,
      "metadata": {
        "colab": {
          "base_uri": "https://localhost:8080/"
        },
        "id": "KlX0OZijfGLD",
        "outputId": "2889ac86-eb04-4e39-84ca-cb9a1d99d400"
      },
      "outputs": [
        {
          "output_type": "stream",
          "name": "stdout",
          "text": [
            "root\n",
            " |-- unit_sales: double (nullable = true)\n",
            " |-- city: string (nullable = true)\n",
            " |-- state: string (nullable = true)\n",
            " |-- type: string (nullable = true)\n",
            " |-- cluster: integer (nullable = true)\n",
            " |-- description: string (nullable = true)\n",
            " |-- holiday: integer (nullable = false)\n",
            " |-- dcoilwtico: double (nullable = false)\n",
            " |-- family: string (nullable = true)\n",
            " |-- class: integer (nullable = true)\n",
            " |-- perishable: integer (nullable = true)\n",
            " |-- transactions: integer (nullable = true)\n",
            " |-- promotion: integer (nullable = false)\n",
            "\n",
            "+----------+-------+-----------+----+-------+------------------+-------+-----------------+------------+-----+----------+------------+---------+\n",
            "|unit_sales|   city|      state|type|cluster|       description|holiday|       dcoilwtico|      family|class|perishable|transactions|promotion|\n",
            "+----------+-------+-----------+----+-------+------------------+-------+-----------------+------------+-----+----------+------------+---------+\n",
            "|       7.0|Salinas|Santa Elena|   D|      1|Primer dia del ano|      1|67.71436595744689|BREAD/BAKERY| 2712|         1|         770|        0|\n",
            "|       1.0|Salinas|Santa Elena|   D|      1|Primer dia del ano|      1|67.71436595744689|   GROCERY I| 1045|         0|         770|        0|\n",
            "|       2.0|Salinas|Santa Elena|   D|      1|Primer dia del ano|      1|67.71436595744689|   GROCERY I| 1045|         0|         770|        0|\n",
            "|       1.0|Salinas|Santa Elena|   D|      1|Primer dia del ano|      1|67.71436595744689|   GROCERY I| 1030|         0|         770|        0|\n",
            "|       1.0|Salinas|Santa Elena|   D|      1|Primer dia del ano|      1|67.71436595744689|        DELI| 2644|         1|         770|        0|\n",
            "+----------+-------+-----------+----+-------+------------------+-------+-----------------+------------+-----+----------+------------+---------+\n",
            "only showing top 5 rows\n",
            "\n"
          ]
        }
      ],
      "source": [
        "# to make things easier to work with, i will convert the results of onpromotion to 1 or 0 as it is a boolean\n",
        "df_train = df_train.withColumn('promotion',\n",
        "                   when(df['onpromotion'] == True, 1)\n",
        "                   .otherwise(0))\n",
        "df_train = df_train.drop('onpromotion')\n",
        "df_train.printSchema()\n",
        "df_train.show(5)"
      ]
    },
    {
      "cell_type": "markdown",
      "metadata": {
        "id": "CjLxE80MqV08"
      },
      "source": [
        "# further analysis\n",
        "i will now analyse each individual variable and then determine the corelation"
      ]
    },
    {
      "cell_type": "code",
      "execution_count": null,
      "metadata": {
        "colab": {
          "base_uri": "https://localhost:8080/"
        },
        "id": "FsDzSm-xqZqI",
        "outputId": "6234ca94-8e43-4d6d-abbf-5885bedefcca"
      },
      "outputs": [
        {
          "name": "stdout",
          "output_type": "stream",
          "text": [
            "+-------------+-------+\n",
            "|         city|  count|\n",
            "+-------------+-------+\n",
            "|      Quevedo| 233029|\n",
            "|       Cuenca| 842999|\n",
            "|     Guaranda| 225568|\n",
            "|Santo Domingo| 714574|\n",
            "|       Playas| 168429|\n",
            "|        Quito|6282092|\n",
            "|    Latacunga| 428941|\n",
            "|    Guayaquil|2005926|\n",
            "|         Loja| 325464|\n",
            "|       Ibarra| 233004|\n",
            "|    El Carmen| 195820|\n",
            "|       Ambato| 670090|\n",
            "|      Machala| 552879|\n",
            "|        Daule| 317271|\n",
            "|      Cayambe| 310431|\n",
            "|      Salinas| 263698|\n",
            "|     Babahoyo| 282729|\n",
            "|     Riobamba| 219792|\n",
            "|   Esmeraldas| 235180|\n",
            "|     Libertad| 275060|\n",
            "+-------------+-------+\n",
            "only showing top 20 rows\n",
            "\n"
          ]
        }
      ],
      "source": [
        "#analysing city\n",
        "cities = df_train.groupBy('city').count()\n",
        "cities.show()"
      ]
    },
    {
      "cell_type": "markdown",
      "metadata": {
        "id": "4EWygGc8zj7r"
      },
      "source": [
        "this graph shows the cities and how many transactions occured within said city. how this may affect unit sales would be difference in lifestyle and preferences of people living in each city, possibly influenced by culture, environment, population age and income group distribution.\n",
        "\n",
        "i believe city would be a very big factor to predicting unit sales"
      ]
    },
    {
      "cell_type": "code",
      "execution_count": null,
      "metadata": {
        "colab": {
          "base_uri": "https://localhost:8080/"
        },
        "id": "NcJGaPyPwIxe",
        "outputId": "74a57de7-e190-4844-ec02-30ec8920f3d5"
      },
      "outputs": [
        {
          "name": "stdout",
          "output_type": "stream",
          "text": [
            "+--------------------+-------+\n",
            "|               state|  count|\n",
            "+--------------------+-------+\n",
            "|              Manabi| 486996|\n",
            "|            Cotopaxi| 428941|\n",
            "|           Pichincha|6592523|\n",
            "|          Chimborazo| 219792|\n",
            "|              Guayas|2766686|\n",
            "|                Loja| 325464|\n",
            "|         Santa Elena| 263698|\n",
            "|            Imbabura| 233004|\n",
            "|              El Oro| 552879|\n",
            "|               Azuay| 842999|\n",
            "|             Bolivar| 225568|\n",
            "|          Tungurahua| 670090|\n",
            "|Santo Domingo de ...| 714574|\n",
            "|            Los Rios| 515758|\n",
            "|          Esmeraldas| 235180|\n",
            "|             Pastaza| 127286|\n",
            "+--------------------+-------+\n",
            "\n"
          ]
        }
      ],
      "source": [
        "#analysing state\n",
        "state = df_train.groupBy('state').count()\n",
        "state.show()"
      ]
    },
    {
      "cell_type": "markdown",
      "metadata": {
        "id": "qGmMHVLp0WC1"
      },
      "source": [
        "similar explanation to city, i also believe state would play a big role in predicting unit sales"
      ]
    },
    {
      "cell_type": "code",
      "execution_count": null,
      "metadata": {
        "colab": {
          "base_uri": "https://localhost:8080/"
        },
        "id": "Q18yFyaBx4sz",
        "outputId": "7c01c1d3-1da9-4879-972b-31d5a6c102cd"
      },
      "outputs": [
        {
          "name": "stdout",
          "output_type": "stream",
          "text": [
            "+----+-------+\n",
            "|type|  count|\n",
            "+----+-------+\n",
            "|   E| 992157|\n",
            "|   B|2170496|\n",
            "|   D|5670442|\n",
            "|   C|3122407|\n",
            "|   A|3245936|\n",
            "+----+-------+\n",
            "\n"
          ]
        }
      ],
      "source": [
        "#analysing type\n",
        "storetype = df_train.groupBy('type').count()\n",
        "storetype.show()"
      ]
    },
    {
      "cell_type": "markdown",
      "metadata": {
        "id": "BwexBVVG00WK"
      },
      "source": [
        "this represents the type of store that each transaction occured in. this may possibly influence unit sales due to factors like selection of items and stock. i hypothesise that while it does have an impact on predicting unit sales, i believe that it would not be that significant."
      ]
    },
    {
      "cell_type": "code",
      "execution_count": null,
      "metadata": {
        "colab": {
          "base_uri": "https://localhost:8080/"
        },
        "id": "rRMD5G3TzCk4",
        "outputId": "19aa893e-ceed-45f8-c6e6-2595acd9c9a4"
      },
      "outputs": [
        {
          "name": "stdout",
          "output_type": "stream",
          "text": [
            "+-------+-------+\n",
            "|cluster|  count|\n",
            "+-------+-------+\n",
            "|     12| 261204|\n",
            "|      1| 903379|\n",
            "|     13|1296081|\n",
            "|      6|1625233|\n",
            "|     16| 262534|\n",
            "|      3|1418947|\n",
            "|      5| 424833|\n",
            "|     15|1095178|\n",
            "|      9| 623923|\n",
            "|     17| 356548|\n",
            "|      4| 944754|\n",
            "|      8|1157201|\n",
            "|      7| 347078|\n",
            "|     10|1490191|\n",
            "|     11| 862019|\n",
            "|     14|1602536|\n",
            "|      2| 529799|\n",
            "+-------+-------+\n",
            "\n"
          ]
        }
      ],
      "source": [
        "#analysing cluster\n",
        "cluster = df_train.groupBy('cluster').count()\n",
        "cluster.show()"
      ]
    },
    {
      "cell_type": "markdown",
      "metadata": {
        "id": "yWhqjuc81QHs"
      },
      "source": [
        "i personally have no idea and cannot fully understand what cluster represents due to lack of business and blockchain concept knowledge. however, with my limited understanding, i hypothesise that its degree of impact on predicting unit sales is similar to store type."
      ]
    },
    {
      "cell_type": "code",
      "execution_count": null,
      "metadata": {
        "id": "yRfUIgyj1ty0",
        "colab": {
          "base_uri": "https://localhost:8080/"
        },
        "outputId": "b7530fcb-2023-466f-a640-74a08c8ad45e"
      },
      "outputs": [
        {
          "output_type": "stream",
          "name": "stdout",
          "text": [
            "+-------+-------+\n",
            "|holiday|  count|\n",
            "+-------+-------+\n",
            "|      1|7755119|\n",
            "|      0|7446319|\n",
            "+-------+-------+\n",
            "\n"
          ]
        }
      ],
      "source": [
        "#analysing holiday\n",
        "holiday = df_train.groupBy('holiday').count()\n",
        "holiday.show()"
      ]
    },
    {
      "cell_type": "markdown",
      "source": [
        "this represents the number of items being transacted on a holiday. i believe it is an important factor in affecting the unit sales as we tend to go shopping more on holidays, or there may be holiday collection of items and offers that are available only on that holiday"
      ],
      "metadata": {
        "id": "i1mZjG2CFmLo"
      }
    },
    {
      "cell_type": "code",
      "source": [
        "#analysing family\n",
        "family = df_train.groupBy('family').count()\n",
        "family.show()"
      ],
      "metadata": {
        "colab": {
          "base_uri": "https://localhost:8080/"
        },
        "id": "uKd9MoD9GWxk",
        "outputId": "42141367-5549-48fb-b5a4-9aacec7ed3ac"
      },
      "execution_count": null,
      "outputs": [
        {
          "output_type": "stream",
          "name": "stdout",
          "text": [
            "+----------------+-------+\n",
            "|          family|  count|\n",
            "+----------------+-------+\n",
            "|  PREPARED FOODS|  90682|\n",
            "| LAWN AND GARDEN|  19043|\n",
            "|       GROCERY I|5447799|\n",
            "|         PRODUCE| 961190|\n",
            "|      AUTOMOTIVE|  37527|\n",
            "|       BEVERAGES|2175842|\n",
            "|    BREAD/BAKERY| 548233|\n",
            "|        LINGERIE|  32461|\n",
            "|      GROCERY II|  33103|\n",
            "|           DAIRY|1090014|\n",
            "|         SEAFOOD|  30081|\n",
            "|LIQUOR,WINE,BEER| 141466|\n",
            "|            DELI| 481335|\n",
            "|         POULTRY| 213470|\n",
            "|    FROZEN FOODS| 187844|\n",
            "|   PERSONAL CARE| 546505|\n",
            "|        CLEANING|1995466|\n",
            "|        HARDWARE|   7949|\n",
            "|          BEAUTY|  21068|\n",
            "|            EGGS| 184589|\n",
            "+----------------+-------+\n",
            "only showing top 20 rows\n",
            "\n"
          ]
        }
      ]
    },
    {
      "cell_type": "markdown",
      "source": [
        "this represents the categorical family of each item. i believe that it affects unit sales based on culture and consumer behavior. for example, grocery items tend to be purchased more often than deli products"
      ],
      "metadata": {
        "id": "xkV_2NYeGT2Q"
      }
    },
    {
      "cell_type": "code",
      "source": [
        "#analysing class\n",
        "itemclass = df_train.groupBy('class').count()\n",
        "itemclass.show()"
      ],
      "metadata": {
        "colab": {
          "base_uri": "https://localhost:8080/"
        },
        "id": "_c3p67M1G-4z",
        "outputId": "904ef2f3-dfa6-4a4d-ae4f-a7b6aae2e2dd"
      },
      "execution_count": null,
      "outputs": [
        {
          "output_type": "stream",
          "name": "stdout",
          "text": [
            "+-----+------+\n",
            "|class| count|\n",
            "+-----+------+\n",
            "| 2142| 38353|\n",
            "| 1088| 91203|\n",
            "| 2122|  4684|\n",
            "| 1084|118530|\n",
            "| 1025|  7390|\n",
            "| 3028| 34946|\n",
            "| 2156|  8797|\n",
            "| 2802|  7621|\n",
            "| 2238|  2409|\n",
            "| 1016|432298|\n",
            "| 4126|179492|\n",
            "| 3026|151488|\n",
            "| 3008|112869|\n",
            "| 2662| 19446|\n",
            "| 1030|154025|\n",
            "| 1034|363501|\n",
            "| 2962| 11729|\n",
            "| 1064|  5386|\n",
            "| 2752| 19847|\n",
            "| 2750|  3164|\n",
            "+-----+------+\n",
            "only showing top 20 rows\n",
            "\n"
          ]
        }
      ]
    },
    {
      "cell_type": "markdown",
      "source": [
        "from my limited understanding of this column, i deduced that it represents the brand of the item. this should be a significant factor as brand affects spending behaviour, such as price of the item or quality/how reknowned an item is."
      ],
      "metadata": {
        "id": "rIcqPRkbHFBJ"
      }
    },
    {
      "cell_type": "code",
      "source": [
        "#analysing perishable\n",
        "perishable = df_train.groupBy('perishable').count()\n",
        "perishable.show()"
      ],
      "metadata": {
        "colab": {
          "base_uri": "https://localhost:8080/"
        },
        "id": "kkF4bTC8Hh_-",
        "outputId": "70d4a5e4-0054-4fce-a652-33daa80baf4e"
      },
      "execution_count": null,
      "outputs": [
        {
          "output_type": "stream",
          "name": "stdout",
          "text": [
            "+----------+--------+\n",
            "|perishable|   count|\n",
            "+----------+--------+\n",
            "|         1| 3882837|\n",
            "|         0|11318601|\n",
            "+----------+--------+\n",
            "\n"
          ]
        }
      ]
    },
    {
      "cell_type": "markdown",
      "source": [
        "this represents whether an item being transacted is perishable or not. perishable items tend to be bought more often than non perishable items due to reusability and shelf life. i hypthesise that its impact on unit price is not that significant."
      ],
      "metadata": {
        "id": "CrayvXStHvTi"
      }
    },
    {
      "cell_type": "code",
      "source": [
        "#analysing promotion\n",
        "promotion = df_train.groupBy('promotion').count()\n",
        "promotion.show()"
      ],
      "metadata": {
        "colab": {
          "base_uri": "https://localhost:8080/"
        },
        "id": "ELE7CGaSIMaJ",
        "outputId": "14801411-ded8-404b-e08d-f5e16400cd17"
      },
      "execution_count": null,
      "outputs": [
        {
          "output_type": "stream",
          "name": "stdout",
          "text": [
            "+---------+--------+\n",
            "|promotion|   count|\n",
            "+---------+--------+\n",
            "|        0|14001128|\n",
            "|        1| 1200310|\n",
            "+---------+--------+\n",
            "\n"
          ]
        }
      ]
    },
    {
      "cell_type": "markdown",
      "source": [
        "this represents whether or not an item being transacted is bought on promotion. i hypothesise that its impact is significant as common consumer behaviour would be to purchase more if there is a promotion."
      ],
      "metadata": {
        "id": "YDuNTsvSITqI"
      }
    },
    {
      "cell_type": "markdown",
      "source": [
        "i did not do an analysis on daily oil prices and transactions made in a day as both are conitnuous varaibles. however, here are my deductions:\n",
        "\n",
        "-daily oil prices should not have that big of an impact on unit sales\n",
        "\n",
        "-transactions made in a day should have a moderate impact on unit sales.\n",
        "\n"
      ],
      "metadata": {
        "id": "ZZbOD4IlIluz"
      }
    },
    {
      "cell_type": "markdown",
      "source": [
        "# data prepping for training and fitting"
      ],
      "metadata": {
        "id": "a0v1oaWQJgv1"
      }
    },
    {
      "cell_type": "code",
      "source": [
        "#indexing categorical volumns\n",
        "\n",
        "def index_and_drop_columns(df, columns_to_index):\n",
        "    indexed_df = df\n",
        "    indexers = []\n",
        "\n",
        "    for col_name in columns_to_index:\n",
        "        indexer = StringIndexer(inputCol=col_name, outputCol=f\"{col_name}_index\")\n",
        "        indexed_df = indexer.fit(indexed_df).transform(indexed_df)\n",
        "        indexers.append(indexer)\n",
        "\n",
        "    columns_to_drop = [col_name for col_name in columns_to_index]\n",
        "    indexed_df = indexed_df.drop(*columns_to_drop)\n",
        "\n",
        "    return indexed_df"
      ],
      "metadata": {
        "id": "-YeShTIcScBO"
      },
      "execution_count": 15,
      "outputs": []
    },
    {
      "cell_type": "code",
      "source": [
        "# apply the function to the train and test dataframes\n",
        "#cluster is not indexed as it is already in an indexed format\n",
        "columns_to_index = ['city','state','type','description','family','class']\n",
        "df_train_indexed = index_and_drop_columns(df_train, columns_to_index)\n",
        "df_train_indexed.printSchema()\n",
        "df_train_indexed.show(5)"
      ],
      "metadata": {
        "colab": {
          "base_uri": "https://localhost:8080/"
        },
        "id": "wGYsWairPwTS",
        "outputId": "d18f2e5d-d799-4775-8bc2-7f2e318fa196"
      },
      "execution_count": 16,
      "outputs": [
        {
          "output_type": "stream",
          "name": "stdout",
          "text": [
            "root\n",
            " |-- unit_sales: double (nullable = true)\n",
            " |-- cluster: integer (nullable = true)\n",
            " |-- holiday: integer (nullable = false)\n",
            " |-- dcoilwtico: double (nullable = false)\n",
            " |-- perishable: integer (nullable = true)\n",
            " |-- transactions: integer (nullable = true)\n",
            " |-- promotion: integer (nullable = false)\n",
            " |-- city_index: double (nullable = false)\n",
            " |-- state_index: double (nullable = false)\n",
            " |-- type_index: double (nullable = false)\n",
            " |-- description_index: double (nullable = false)\n",
            " |-- family_index: double (nullable = false)\n",
            " |-- class_index: double (nullable = false)\n",
            "\n",
            "+----------+-------+-------+-----------------+----------+------------+---------+----------+-----------+----------+-----------------+------------+-----------+\n",
            "|unit_sales|cluster|holiday|       dcoilwtico|perishable|transactions|promotion|city_index|state_index|type_index|description_index|family_index|class_index|\n",
            "+----------+-------+-------+-----------------+----------+------------+---------+----------+-----------+----------+-----------------+------------+-----------+\n",
            "|       7.0|      1|      1|67.71436595744689|         1|         770|        0|      13.0|       10.0|       0.0|             79.0|         5.0|       70.0|\n",
            "|       1.0|      1|      1|67.71436595744689|         0|         770|        0|      13.0|       10.0|       0.0|             79.0|         0.0|       38.0|\n",
            "|       2.0|      1|      1|67.71436595744689|         0|         770|        0|      13.0|       10.0|       0.0|             79.0|         0.0|       38.0|\n",
            "|       1.0|      1|      1|67.71436595744689|         0|         770|        0|      13.0|       10.0|       0.0|             79.0|         0.0|       24.0|\n",
            "|       1.0|      1|      1|67.71436595744689|         1|         770|        0|      13.0|       10.0|       0.0|             79.0|         7.0|       31.0|\n",
            "+----------+-------+-------+-----------------+----------+------------+---------+----------+-----------+----------+-----------------+------------+-----------+\n",
            "only showing top 5 rows\n",
            "\n"
          ]
        }
      ]
    },
    {
      "cell_type": "code",
      "source": [
        "# #roundinf off unit sales to integers\n",
        "# df_train_indexed = df_train_indexed.withColumn('unit_sales_int', round(col('unit_sales'), 0))\n",
        "# df_train_indexed = df_train_indexed.drop('unit_sales')\n",
        "# df_train_indexed.printSchema()\n",
        "# df_train_indexed.show(5)"
      ],
      "metadata": {
        "id": "ov4xmEbD9xAV"
      },
      "execution_count": null,
      "outputs": []
    },
    {
      "cell_type": "code",
      "source": [
        "#splitting the data for training and testing\n",
        "train, test = df_train_indexed.randomSplit([0.8, 0.2], seed=42)\n",
        "\n",
        "train.printSchema()\n",
        "train.show(5)\n",
        "test.printSchema()\n",
        "test.show(5)"
      ],
      "metadata": {
        "colab": {
          "base_uri": "https://localhost:8080/"
        },
        "id": "ZojMMvWhUNzd",
        "outputId": "7efb199e-a605-4c8f-ab4a-9b8ef1736b6e"
      },
      "execution_count": 17,
      "outputs": [
        {
          "output_type": "stream",
          "name": "stdout",
          "text": [
            "root\n",
            " |-- unit_sales: double (nullable = true)\n",
            " |-- cluster: integer (nullable = true)\n",
            " |-- holiday: integer (nullable = false)\n",
            " |-- dcoilwtico: double (nullable = false)\n",
            " |-- perishable: integer (nullable = true)\n",
            " |-- transactions: integer (nullable = true)\n",
            " |-- promotion: integer (nullable = false)\n",
            " |-- city_index: double (nullable = false)\n",
            " |-- state_index: double (nullable = false)\n",
            " |-- type_index: double (nullable = false)\n",
            " |-- description_index: double (nullable = false)\n",
            " |-- family_index: double (nullable = false)\n",
            " |-- class_index: double (nullable = false)\n",
            "\n",
            "+----------+-------+-------+----------+----------+------------+---------+----------+-----------+----------+-----------------+------------+-----------+\n",
            "|unit_sales|cluster|holiday|dcoilwtico|perishable|transactions|promotion|city_index|state_index|type_index|description_index|family_index|class_index|\n",
            "+----------+-------+-------+----------+----------+------------+---------+----------+-----------+----------+-----------------+------------+-----------+\n",
            "|     0.134|      6|      0|      97.1|         1|        1466|        0|       2.0|        2.0|       3.0|             24.0|         7.0|      144.0|\n",
            "|     0.156|      6|      1|     97.01|         1|        1016|        0|       2.0|        2.0|       3.0|              0.0|         7.0|      177.0|\n",
            "|     0.168|     13|      1|     97.48|         1|         487|        0|       0.0|        0.0|       0.0|              0.0|         7.0|      144.0|\n",
            "|      0.17|     14|      1|     97.01|         1|        2939|        0|       0.0|        0.0|       1.0|              0.0|         7.0|      144.0|\n",
            "|      0.18|      8|      1|     97.01|         1|        1261|        0|       0.0|        0.0|       0.0|              0.0|         7.0|      144.0|\n",
            "+----------+-------+-------+----------+----------+------------+---------+----------+-----------+----------+-----------------+------------+-----------+\n",
            "only showing top 5 rows\n",
            "\n",
            "root\n",
            " |-- unit_sales: double (nullable = true)\n",
            " |-- cluster: integer (nullable = true)\n",
            " |-- holiday: integer (nullable = false)\n",
            " |-- dcoilwtico: double (nullable = false)\n",
            " |-- perishable: integer (nullable = true)\n",
            " |-- transactions: integer (nullable = true)\n",
            " |-- promotion: integer (nullable = false)\n",
            " |-- city_index: double (nullable = false)\n",
            " |-- state_index: double (nullable = false)\n",
            " |-- type_index: double (nullable = false)\n",
            " |-- description_index: double (nullable = false)\n",
            " |-- family_index: double (nullable = false)\n",
            " |-- class_index: double (nullable = false)\n",
            "\n",
            "+----------+-------+-------+----------+----------+------------+---------+----------+-----------+----------+-----------------+------------+-----------+\n",
            "|unit_sales|cluster|holiday|dcoilwtico|perishable|transactions|promotion|city_index|state_index|type_index|description_index|family_index|class_index|\n",
            "+----------+-------+-------+----------+----------+------------+---------+----------+-----------+----------+-----------------+------------+-----------+\n",
            "|     0.166|     17|      1|     97.48|         1|        1533|        0|       1.0|        1.0|       1.0|              0.0|         7.0|      177.0|\n",
            "|     0.182|     13|      1|     97.48|         1|         487|        0|       0.0|        0.0|       0.0|              0.0|         7.0|      177.0|\n",
            "|     0.191|     11|      1|     97.01|         1|        2210|        0|       0.0|        0.0|       1.0|              0.0|         7.0|      173.0|\n",
            "|     0.219|     11|      0|      97.1|         1|        1912|        0|       0.0|        0.0|       1.0|             24.0|         9.0|      112.0|\n",
            "|     0.253|     13|      1|     97.01|         1|        1529|        0|       0.0|        0.0|       0.0|              0.0|         7.0|      173.0|\n",
            "+----------+-------+-------+----------+----------+------------+---------+----------+-----------+----------+-----------------+------------+-----------+\n",
            "only showing top 5 rows\n",
            "\n"
          ]
        }
      ]
    },
    {
      "cell_type": "markdown",
      "source": [
        "i split the dataset on a ratio of 8:2, where 80% of the data will be used for training, and the remaining 20% for testing"
      ],
      "metadata": {
        "id": "ZHrz5cDaVXh2"
      }
    },
    {
      "cell_type": "code",
      "source": [
        "# #producing correlation heatmap\n",
        "# plt.figure(figsize=(1,15))\n",
        "# heatmap = sns.heatmap(train.corr()[['unit_sales']].abs().sort_values(by='unit_sales', ascending=False),\n",
        "#                       vmin=-1,vmax=1, annot=True, cmap='YlGnBu')\n",
        "\n",
        "# heatmap.set_title('heatmap of corelatin with unit sales', fontdict={'fontsize':15}, pad=14)\n",
        "\n",
        "# plt.show()"
      ],
      "metadata": {
        "id": "X0bKfPLoU810"
      },
      "execution_count": null,
      "outputs": []
    },
    {
      "cell_type": "code",
      "source": [
        "#producing corelation matrix\n",
        "# Assemble the features into a single vector column\n",
        "vector_assembler = VectorAssembler(inputCols=['unit_sales','city_index','state_index','type_index','cluster','description_index','holiday','dcoilwtico','family_index','class_index','perishable','transactions','promotion'], outputCol='features')\n",
        "df_vector = vector_assembler.transform(train).select('features')\n",
        "\n",
        "# Calculate the correlation matrix\n",
        "correlation_matrix = Correlation.corr(df_vector, 'features').head()[0]\n",
        "\n",
        "# Convert the correlation matrix to a numpy array and print it\n",
        "correlation_matrix = correlation_matrix.toArray()\n",
        "print(correlation_matrix)"
      ],
      "metadata": {
        "colab": {
          "base_uri": "https://localhost:8080/"
        },
        "id": "J3tTfEG2XqCq",
        "outputId": "fe9d895b-4857-48af-898f-5652bd1f1b15"
      },
      "execution_count": null,
      "outputs": [
        {
          "output_type": "stream",
          "name": "stdout",
          "text": [
            "[[ 1.00000000e+00 -2.70153181e-02 -3.00043787e-02 -6.95944202e-03\n",
            "   1.26297035e-02 -5.55361389e-04  1.54848586e-02 -2.61160840e-04\n",
            "  -4.08102331e-03 -1.02746167e-02  2.79100594e-02  7.82750670e-02\n",
            "   3.15586911e-02]\n",
            " [-2.70153181e-02  1.00000000e+00  8.03220103e-01  2.70154884e-01\n",
            "  -1.86385875e-01  9.75815899e-05  1.41083888e-03 -8.43266308e-03\n",
            "  -3.56566837e-02 -3.88532486e-02 -3.85115860e-02 -3.93140565e-01\n",
            "   2.37947682e-02]\n",
            " [-3.00043787e-02  8.03220103e-01  1.00000000e+00  1.34142546e-01\n",
            "  -6.11741059e-02  1.30974382e-03  6.57308225e-03 -1.29988864e-02\n",
            "  -3.08497392e-02 -3.32136333e-02 -3.50803345e-02 -3.77582888e-01\n",
            "   1.39773698e-02]\n",
            " [-6.95944202e-03  2.70154884e-01  1.34142546e-01  1.00000000e+00\n",
            "   9.27413197e-02 -1.60613257e-03  3.60136967e-03 -2.55958532e-02\n",
            "  -4.54751268e-02 -4.45217656e-02 -5.32007038e-02 -2.01188188e-01\n",
            "   6.50339194e-03]\n",
            " [ 1.26297035e-02 -1.86385875e-01 -6.11741059e-02  9.27413197e-02\n",
            "   1.00000000e+00  4.65360345e-04  8.47345103e-04  2.07899808e-02\n",
            "   3.62094963e-03  7.22005520e-04  1.93072634e-04  1.91388061e-01\n",
            "  -5.01090215e-03]\n",
            " [-5.55361389e-04  9.75815899e-05  1.30974382e-03 -1.60613257e-03\n",
            "   4.65360345e-04  1.00000000e+00  3.66259222e-01 -8.39126502e-02\n",
            "   9.31513082e-04  4.23307413e-04  4.70433858e-03 -5.02473046e-02\n",
            "   2.22432247e-02]\n",
            " [ 1.54848586e-02  1.41083888e-03  6.57308225e-03  3.60136967e-03\n",
            "   8.47345103e-04  3.66259222e-01  1.00000000e+00 -1.27833771e-01\n",
            "   6.88222969e-03  1.02004127e-02 -2.83316618e-03  1.18184204e-01\n",
            "   2.26789760e-02]\n",
            " [-2.61160840e-04 -8.43266308e-03 -1.29988864e-02 -2.55958532e-02\n",
            "   2.07899808e-02 -8.39126502e-02 -1.27833771e-01  1.00000000e+00\n",
            "  -1.55135634e-02 -2.90111823e-02 -1.12188111e-02 -1.93873010e-02\n",
            "  -1.13068416e-01]\n",
            " [-4.08102331e-03 -3.56566837e-02 -3.08497392e-02 -4.54751268e-02\n",
            "   3.62094963e-03  9.31513082e-04  6.88222969e-03 -1.55135634e-02\n",
            "   1.00000000e+00  5.20368007e-01  3.40423437e-01  4.50860408e-02\n",
            "   7.02914024e-02]\n",
            " [-1.02746167e-02 -3.88532486e-02 -3.32136333e-02 -4.45217656e-02\n",
            "   7.22005520e-04  4.23307413e-04  1.02004127e-02 -2.90111823e-02\n",
            "   5.20368007e-01  1.00000000e+00  2.54026136e-01  5.09865660e-02\n",
            "   2.65577240e-02]\n",
            " [ 2.79100594e-02 -3.85115860e-02 -3.50803345e-02 -5.32007038e-02\n",
            "   1.93072634e-04  4.70433858e-03 -2.83316618e-03 -1.12188111e-02\n",
            "   3.40423437e-01  2.54026136e-01  1.00000000e+00  2.11356068e-02\n",
            "   1.50842071e-01]\n",
            " [ 7.82750670e-02 -3.93140565e-01 -3.77582888e-01 -2.01188188e-01\n",
            "   1.91388061e-01 -5.02473046e-02  1.18184204e-01 -1.93873010e-02\n",
            "   4.50860408e-02  5.09865660e-02  2.11356068e-02  1.00000000e+00\n",
            "  -9.96441502e-03]\n",
            " [ 3.15586911e-02  2.37947682e-02  1.39773698e-02  6.50339194e-03\n",
            "  -5.01090215e-03  2.22432247e-02  2.26789760e-02 -1.13068416e-01\n",
            "   7.02914024e-02  2.65577240e-02  1.50842071e-01 -9.96441502e-03\n",
            "   1.00000000e+00]]\n"
          ]
        }
      ]
    },
    {
      "cell_type": "markdown",
      "source": [
        "i will not be using z score normalization as i am using tree based regression models"
      ],
      "metadata": {
        "id": "Y8a8nT5me2ej"
      }
    },
    {
      "cell_type": "code",
      "source": [
        "# Assemble features into a single vector column\n",
        "feature_columns = ['city_index', 'state_index', 'type_index', 'cluster',\n",
        "                   'holiday', 'dcoilwtico', 'family_index', 'perishable',\n",
        "                   'transactions', 'promotion']\n",
        "vector_assembler = VectorAssembler(inputCols=feature_columns, outputCol='features')\n",
        "train_vector = vector_assembler.transform(train).select('features', 'unit_sales')\n",
        "test_vector = vector_assembler.transform(test).select('features', 'unit_sales')\n",
        "\n",
        "#unused code\n",
        "#class_index contains 330 entries which requires at least 330 maxbins. due to technological restrictions of my system, i have decided to exclude class_index\n",
        "#similarly, description_index contains 80 entires, whcih require at least 80 maxbins.\n",
        "# feature_columns = ['city_index', 'state_index', 'type_index', 'cluster', 'description_index',\n",
        "#                    'holiday', 'dcoilwtico', 'family_index', 'class_index', 'perishable',\n",
        "#                    'transactions', 'promotion']"
      ],
      "metadata": {
        "id": "X4DIWySvkqDA"
      },
      "execution_count": 18,
      "outputs": []
    },
    {
      "cell_type": "markdown",
      "source": [
        "preparing the evaluators. i chose rmse and r2 as my metrics to evaluate performance"
      ],
      "metadata": {
        "id": "q9IZgZ3GrqX_"
      }
    },
    {
      "cell_type": "code",
      "source": [
        "evaluator_rmse = RegressionEvaluator(labelCol='unit_sales', predictionCol='prediction', metricName='rmse')\n",
        "evaluator_r2 = RegressionEvaluator(labelCol='unit_sales', predictionCol='prediction', metricName='r2')"
      ],
      "metadata": {
        "id": "ROluxp6ernlq"
      },
      "execution_count": 19,
      "outputs": []
    },
    {
      "cell_type": "markdown",
      "source": [
        "Due to the presence of a mix of categorical and continuous data in the feature selection, i will be using random forest regression and decision tree regression"
      ],
      "metadata": {
        "id": "TIau58ItS_6R"
      }
    },
    {
      "cell_type": "markdown",
      "source": [
        "# Random Forest"
      ],
      "metadata": {
        "id": "gzzepRIPrj-s"
      }
    },
    {
      "cell_type": "code",
      "source": [
        "# Initialize the Random Forest Regressor\n",
        "rf = RandomForestRegressor(featuresCol='features', labelCol='unit_sales', maxBins=33)\n",
        "\n",
        "# Train the model\n",
        "rf_model = rf.fit(train_vector)\n",
        "\n",
        "# Make predictions\n",
        "predictions_rf = rf_model.transform(test_vector)\n",
        "\n",
        "\n",
        "# rf = RandomForestClassifier(labelCol='unit_sales_int', featuresCol=\"features\")\n",
        "\n",
        "# # train the Random Forest model\n",
        "# rf_model = rf.fit(train_vector)\n",
        "\n",
        "# # Evaluate the model on the test data\n",
        "# test_results = rf_model.transform(test)"
      ],
      "metadata": {
        "id": "FB509RIe6ynw"
      },
      "execution_count": 21,
      "outputs": []
    },
    {
      "cell_type": "code",
      "source": [
        "# Calculate RMSE\n",
        "rmse_rf = evaluator_rmse.evaluate(predictions_rf)\n",
        "print(\"RootMean Squared Error:\", rmse_rf)\n",
        "\n",
        "# Calculate R2\n",
        "r2_rf = evaluator_r2.evaluate(predictions_rf)\n",
        "print(\"R2:\", r2_rf)"
      ],
      "metadata": {
        "colab": {
          "base_uri": "https://localhost:8080/"
        },
        "id": "CcZW2ltTq7Sj",
        "outputId": "c4372414-cf5c-403d-b9ca-c12404a2c229"
      },
      "execution_count": 22,
      "outputs": [
        {
          "output_type": "stream",
          "name": "stdout",
          "text": [
            " RootMean Squared Error: 29.237659440452358\n",
            "R2: 0.031956791080037794\n"
          ]
        }
      ]
    },
    {
      "cell_type": "markdown",
      "source": [
        "# Decision Tree"
      ],
      "metadata": {
        "id": "ahdXTDgbsLs4"
      }
    },
    {
      "cell_type": "code",
      "source": [
        "# Initialize the Decision Tree Regressor\n",
        "dt = DecisionTreeRegressor(featuresCol='features', labelCol='unit_sales', maxBins=33)\n",
        "\n",
        "# Train the model\n",
        "dt_model = dt.fit(train_vector)\n",
        "\n",
        "# Make predictions on the test data\n",
        "predictions_dt = dt_model.transform(test_vector)"
      ],
      "metadata": {
        "id": "uvXUhhZZsNoR"
      },
      "execution_count": 23,
      "outputs": []
    },
    {
      "cell_type": "code",
      "source": [
        "# Calculate RMSE\n",
        "rmse_dt = evaluator_rmse.evaluate(predictions_dt)\n",
        "print(\"RootMean Squared Error:\", rmse_dt)\n",
        "\n",
        "# Calculate R2\n",
        "r2_dt = evaluator_r2.evaluate(predictions_dt)\n",
        "print(\"R2:\", r2_dt)"
      ],
      "metadata": {
        "colab": {
          "base_uri": "https://localhost:8080/"
        },
        "id": "GktXpWIrsPKL",
        "outputId": "9a3cd040-837f-4ac7-bc7b-7ca8c31c2bc6"
      },
      "execution_count": 24,
      "outputs": [
        {
          "output_type": "stream",
          "name": "stdout",
          "text": [
            " RootMean Squared Error: 29.244050805197578\n",
            "R2: 0.03153351550949024\n"
          ]
        }
      ]
    },
    {
      "cell_type": "markdown",
      "source": [
        "# Afterword\n",
        "for the random forest method, we have the following results\n",
        "\n",
        "RootMean Squared Error: 29.237659440452358\n",
        "\n",
        "R2: 0.031956791080037794\n",
        "\n",
        "and for decision tree method, we have the following results\n",
        "\n",
        "RootMean Squared Error: 29.244050805197578\n",
        "\n",
        "R2: 0.03153351550949024\n"
      ],
      "metadata": {
        "id": "VvGZMFzIQSRV"
      }
    },
    {
      "cell_type": "markdown",
      "source": [
        "This shows that for my model, the predictions for both are at least 29 units away from the actual value on average. The r2 value shows that for the RF method, 3.20% of the variance in the target variable is dependent on the features, while it is 3.13% for the decision tree model\n",
        "\n",
        "In general, the random forest method is better, but both have very underwhelming performance\n",
        "\n",
        "The underwhelming performance of the model could be explained by the following:\n",
        "\n",
        "1) the features that i have hypothesised to be used and not used may have been the best features to be used. The model may have experienced over or underfitting.\n",
        "\n",
        "2) The data cleaning that i performed may be incomplete, resulting in possible misisng values or outliers, affecting the training capabilities of the model."
      ],
      "metadata": {
        "id": "3DaFAGKOQoMV"
      }
    },
    {
      "cell_type": "code",
      "source": [
        "# #finetuning for RF\n",
        "\n",
        "# # Define the parameter grid\n",
        "# paramGrid = (ParamGridBuilder()\n",
        "#              .addGrid(rf.numTrees, [20, 35, 50])\n",
        "#              .addGrid(rf.maxDepth, [5, 10, 20])\n",
        "#              .addGrid(rf.maxDepth, [33, 50, 100])\n",
        "#              .build())\n",
        "\n",
        "# # Set up cross-validation\n",
        "# crossval = CrossValidator(estimator=rf,\n",
        "#                           estimatorParamMaps=paramGrid,\n",
        "#                           evaluator=RegressionEvaluator(labelCol='unit_sales', metricName='rmse'),\n",
        "#                           numFolds=3)\n",
        "\n",
        "# # Fit the model\n",
        "# cv_model = crossval.fit(train_vector)\n",
        "\n",
        "# # Make predictions\n",
        "# predictions = cv_model.transform(test_vector)\n",
        "\n",
        "# # Calculate RMSE\n",
        "# rmse = evaluator_rmse.evaluate(predictions)\n",
        "# print(\" RootMean Squared Error:\", rmse)\n",
        "\n",
        "# # Calculate R2\n",
        "# r2 = evaluator_r2.evaluate(predictions)\n",
        "# print(\"R2:\", r2)\n",
        "\n",
        "# evaluator = RegressionEvaluator(labelCol='unit_sales', predictionCol='prediction', metricName='rmse')\n",
        "# rmse = evaluator.evaluate(predictions)\n",
        "# print(\"Root Mean Squared Error (RMSE):\", rmse)\n",
        "\n",
        "# # Print best model parameters\n",
        "# best_model = cv_model.bestModel\n",
        "# print(\"Best Param (numTrees): \", best_model.stages[-1]._java_obj.getNumTrees())\n",
        "# print(\"Best Param (maxDepth): \", best_model.stages[-1]._java_obj.getMaxDepth())\n",
        "# print(\"Best Param (maxBins): \", best_model.stages[-1]._java_obj.getMaxDepth())"
      ],
      "metadata": {
        "id": "2rjqXlZTqjM4"
      },
      "execution_count": null,
      "outputs": []
    },
    {
      "cell_type": "code",
      "source": [
        "# #finetuning for DT\n",
        "\n",
        "# # Define the parameter grid\n",
        "# paramGrid = (ParamGridBuilder()\n",
        "#              .addGrid(rf.numTrees, [20, 35, 50])\n",
        "#              .addGrid(rf.maxDepth, [5, 10, 20])\n",
        "#              .addGrid(rf.maxDepth, [33, 50, 100])\n",
        "#              .build())\n",
        "\n",
        "# # Set up cross-validation\n",
        "# crossval = CrossValidator(estimator=dt,\n",
        "#                           estimatorParamMaps=paramGrid,\n",
        "#                           evaluator=RegressionEvaluator(labelCol='unit_sales', metricName='rmse'),\n",
        "#                           numFolds=3)\n",
        "\n",
        "# # Fit the model\n",
        "# cv_model = crossval.fit(train_vector)\n",
        "\n",
        "# # Make predictions\n",
        "# predictions = cv_model.transform(test_vector)\n",
        "\n",
        "# # Calculate RMSE\n",
        "# rmse = evaluator_rmse.evaluate(predictions)\n",
        "# print(\" RootMean Squared Error:\", rmse)\n",
        "\n",
        "# # Calculate R2\n",
        "# r2 = evaluator_r2.evaluate(predictions)\n",
        "# print(\"R2:\", r2)\n",
        "\n",
        "# evaluator = RegressionEvaluator(labelCol='unit_sales', predictionCol='prediction', metricName='rmse')\n",
        "# rmse = evaluator.evaluate(predictions)\n",
        "# print(\"Root Mean Squared Error (RMSE):\", rmse)\n",
        "\n",
        "# # Print best model parameters\n",
        "# best_model = cv_model.bestModel\n",
        "# print(\"Best Param (numTrees): \", best_model.stages[-1]._java_obj.getNumTrees())\n",
        "# print(\"Best Param (maxDepth): \", best_model.stages[-1]._java_obj.getMaxDepth())\n",
        "# print(\"Best Param (maxBins): \", best_model.stages[-1]._java_obj.getMaxDepth())"
      ],
      "metadata": {
        "id": "BBICJAVFIEHZ"
      },
      "execution_count": null,
      "outputs": []
    }
  ],
  "metadata": {
    "colab": {
      "gpuType": "T4",
      "provenance": []
    },
    "kernelspec": {
      "display_name": "Python 3",
      "name": "python3"
    },
    "language_info": {
      "name": "python"
    }
  },
  "nbformat": 4,
  "nbformat_minor": 0
}